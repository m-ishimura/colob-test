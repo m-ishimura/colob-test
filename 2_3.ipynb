{
  "nbformat": 4,
  "nbformat_minor": 5,
  "metadata": {
    "kernelspec": {
      "display_name": "Python 3",
      "name": "python3"
    },
    "language_info": {
      "codemirror_mode": {
        "name": "ipython",
        "version": 3
      },
      "file_extension": ".py",
      "mimetype": "text/x-python",
      "name": "python",
      "nbconvert_exporter": "python",
      "pygments_lexer": "ipython3",
      "version": "3.6.3"
    },
    "colab": {
      "provenance": [],
      "include_colab_link": true
    }
  },
  "cells": [
    {
      "cell_type": "markdown",
      "metadata": {
        "id": "view-in-github",
        "colab_type": "text"
      },
      "source": [
        "<a href=\"https://colab.research.google.com/github/m-ishimura/colob-test/blob/main/2_3.ipynb\" target=\"_parent\"><img src=\"https://colab.research.google.com/assets/colab-badge.svg\" alt=\"Open In Colab\"/></a>"
      ]
    },
    {
      "cell_type": "markdown",
      "metadata": {
        "id": "fluid-princess"
      },
      "source": [
        "## ●CPUとGPU\n"
      ],
      "id": "fluid-princess"
    },
    {
      "cell_type": "markdown",
      "source": [
        "リスト2.1"
      ],
      "metadata": {
        "id": "UHAA-EfiNaQ6"
      },
      "id": "UHAA-EfiNaQ6"
    },
    {
      "cell_type": "code",
      "source": [
        "print(\"Hello World!\")"
      ],
      "metadata": {
        "id": "qe8BbinhoxE2"
      },
      "id": "qe8BbinhoxE2",
      "execution_count": null,
      "outputs": []
    },
    {
      "cell_type": "markdown",
      "source": [],
      "metadata": {
        "id": "8BxVBFFzz5o0"
      },
      "id": "8BxVBFFzz5o0"
    },
    {
      "cell_type": "markdown",
      "source": [
        "test"
      ],
      "metadata": {
        "id": "6_WlWyqGz06B"
      },
      "id": "6_WlWyqGz06B"
    },
    {
      "cell_type": "markdown",
      "metadata": {
        "id": "paperback-study"
      },
      "source": [
        "リスト2.2\n"
      ],
      "id": "paperback-study"
    },
    {
      "cell_type": "code",
      "source": [
        "%%time\n",
        "\n",
        "import torch\n",
        "from torch import optim\n",
        "import torch.nn as nn\n",
        "import torch.nn.functional as F\n",
        "from torchvision.datasets import CIFAR10\n",
        "import torchvision.transforms as transforms\n",
        "from torch.utils.data import DataLoader\n",
        "\n",
        "cifar10_train = CIFAR10(\"./data\", train=True, download=True, transform=transforms.ToTensor())\n",
        "cifar10_test = CIFAR10(\"./data\", train=False, download=True, transform=transforms.ToTensor())\n",
        "\n",
        "batch_size = 64\n",
        "train_loader = DataLoader(cifar10_train, batch_size=batch_size, shuffle=True)\n",
        "test_loader = DataLoader(cifar10_test, batch_size=len(cifar10_test), shuffle=False)\n",
        "\n",
        "class Net(nn.Module):\n",
        "    def __init__(self):\n",
        "        super().__init__()\n",
        "        self.conv1 = nn.Conv2d(3, 6, 5)\n",
        "        self.pool = nn.MaxPool2d(2, 2)\n",
        "        self.conv2 = nn.Conv2d(6, 16, 5)\n",
        "        self.fc1 = nn.Linear(16*5*5, 256)\n",
        "        self.fc2 = nn.Linear(256, 10)\n",
        "\n",
        "    def forward(self, x):\n",
        "        x = self.pool(F.relu(self.conv1(x)))\n",
        "        x = self.pool(F.relu(self.conv2(x)))\n",
        "        x = x.view(-1, 16*5*5)\n",
        "        x = F.relu(self.fc1(x))\n",
        "        x = self.fc2(x)\n",
        "        return x\n",
        "\n",
        "net = Net()\n",
        "if torch.cuda.is_available():\n",
        "    net.cuda()\n",
        "\n",
        "loss_fnc = nn.CrossEntropyLoss()\n",
        "optimizer = optim.Adam(net.parameters())\n",
        "\n",
        "record_loss_train = []\n",
        "record_loss_test = []\n",
        "\n",
        "x_test, t_test = next(iter(test_loader))  # ここを修正しました\n",
        "if torch.cuda.is_available():\n",
        "    x_test, t_test = x_test.cuda(), t_test.cuda()\n",
        "\n",
        "for i in range(10):\n",
        "    net.train()\n",
        "    loss_train = 0\n",
        "    for j, (x, t) in enumerate(train_loader):\n",
        "        if torch.cuda.is_available():\n",
        "            x, t = x.cuda(), t.cuda()\n",
        "        y = net(x)\n",
        "        loss = loss_fnc(y, t)\n",
        "        loss_train += loss.item()\n",
        "        optimizer.zero_grad()\n",
        "        loss.backward()\n",
        "        optimizer.step()\n",
        "    loss_train /= j+1\n",
        "    record_loss_train.append(loss_train)\n",
        "\n",
        "    net.eval()\n",
        "    y_test = net(x_test)\n",
        "    loss_test = loss_fnc(y_test, t_test).item()\n",
        "    record_loss_test.append(loss_test)"
      ],
      "metadata": {
        "id": "y2IbtJGBo1ow",
        "colab": {
          "base_uri": "https://localhost:8080/"
        },
        "outputId": "690d018e-bcdd-4d75-fa9f-b7ff84b59a41"
      },
      "id": "y2IbtJGBo1ow",
      "execution_count": null,
      "outputs": [
        {
          "output_type": "stream",
          "name": "stdout",
          "text": [
            "Downloading https://www.cs.toronto.edu/~kriz/cifar-10-python.tar.gz to ./data/cifar-10-python.tar.gz\n"
          ]
        },
        {
          "output_type": "stream",
          "name": "stderr",
          "text": [
            "100%|██████████| 170498071/170498071 [00:05<00:00, 29053373.05it/s]\n"
          ]
        },
        {
          "output_type": "stream",
          "name": "stdout",
          "text": [
            "Extracting ./data/cifar-10-python.tar.gz to ./data\n",
            "Files already downloaded and verified\n",
            "CPU times: user 3min 48s, sys: 6.79 s, total: 3min 55s\n",
            "Wall time: 4min 7s\n"
          ]
        }
      ]
    },
    {
      "cell_type": "markdown",
      "source": [
        "リスト2.3"
      ],
      "metadata": {
        "id": "WjD_a2HiU9ho"
      },
      "id": "WjD_a2HiU9ho"
    },
    {
      "cell_type": "code",
      "source": [
        "a = 12\n",
        "b = 34\n",
        "print(a + b)"
      ],
      "metadata": {
        "id": "TjiNRilJo4NY",
        "colab": {
          "base_uri": "https://localhost:8080/"
        },
        "outputId": "e6be7bba-99c7-404c-e290-59b68ec7f45b"
      },
      "id": "TjiNRilJo4NY",
      "execution_count": null,
      "outputs": [
        {
          "output_type": "stream",
          "name": "stdout",
          "text": [
            "46\n"
          ]
        }
      ]
    },
    {
      "cell_type": "markdown",
      "source": [
        "リスト2.4"
      ],
      "metadata": {
        "id": "KQp3bzAjVFxP"
      },
      "id": "KQp3bzAjVFxP"
    },
    {
      "cell_type": "markdown",
      "source": [
        "$$y=\\sum_{k=1}^5 a_kx_k + \\frac{b^2}{c}$$"
      ],
      "metadata": {
        "id": "lqU47_h7VOhr"
      },
      "id": "lqU47_h7VOhr"
    }
  ]
}